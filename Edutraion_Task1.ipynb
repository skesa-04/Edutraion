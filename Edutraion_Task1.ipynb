{
  "cells": [
    {
      "cell_type": "code",
      "execution_count": null,
      "metadata": {
        "colab": {
          "base_uri": "https://localhost:8080/"
        },
        "id": "YPwV9w7DWP-A",
        "outputId": "4cb62d35-eb8b-423b-f0e0-58a536a7cb3a"
      },
      "outputs": [
        {
          "metadata": {
            "tags": null
          },
          "name": "stdout",
          "output_type": "stream",
          "text": [
            "\n",
            "=== To-Do List Menu ===\n",
            "1. View all tasks\n",
            "2. Add a new task\n",
            "3. Mark a task as complete\n",
            "4. Edit a task\n",
            "5. Delete a task\n",
            "6. Exit\n"
          ]
        }
      ],
      "source": [
        "# Simple To-Do List Application\n",
        "\n",
        "todo_list = []\n",
        "\n",
        "def show_menu():\n",
        "    print(\"\\n=== To-Do List Menu ===\")\n",
        "    print(\"1. View all tasks\")\n",
        "    print(\"2. Add a new task\")\n",
        "    print(\"3. Mark a task as complete\")\n",
        "    print(\"4. Edit a task\")\n",
        "    print(\"5. Delete a task\")\n",
        "    print(\"6. Exit\")\n",
        "\n",
        "def view_tasks():\n",
        "    if not todo_list:\n",
        "        print(\"No tasks in your to-do list.\")\n",
        "    else:\n",
        "        print(\"\\nYour To-Do List:\")\n",
        "        for i, task in enumerate(todo_list, start=1):\n",
        "            status = \"Done\" if task[\"done\"] else \"Not Done\"\n",
        "            print(f\"{i}. {task['title']} [{status}]\")\n",
        "\n",
        "def add_task():\n",
        "    title = input(\"Enter the task description: \")\n",
        "    todo_list.append({\"title\": title, \"done\": False})\n",
        "    print(\"Task added successfully!\")\n",
        "\n",
        "def mark_complete():\n",
        "    view_tasks()\n",
        "    if not todo_list:\n",
        "        return\n",
        "    num = int(input(\"Enter task number to mark complete: \"))\n",
        "    if 1 <= num <= len(todo_list):\n",
        "        todo_list[num - 1][\"done\"] = True\n",
        "        print(\"Task marked as complete.\")\n",
        "    else:\n",
        "        print(\"Invalid task number.\")\n",
        "\n",
        "def edit_task():\n",
        "    view_tasks()\n",
        "    if not todo_list:\n",
        "        return\n",
        "    num = int(input(\"Enter task number to edit: \"))\n",
        "    if 1 <= num <= len(todo_list):\n",
        "        new_title = input(\"Enter new task description: \")\n",
        "        todo_list[num - 1][\"title\"] = new_title\n",
        "        print(\"Task updated.\")\n",
        "    else:\n",
        "        print(\"Invalid task number.\")\n",
        "\n",
        "def delete_task():\n",
        "    view_tasks()\n",
        "    if not todo_list:\n",
        "        return\n",
        "    num = int(input(\"Enter task number to delete: \"))\n",
        "    if 1 <= num <= len(todo_list):\n",
        "        deleted_task = todo_list.pop(num - 1)\n",
        "        print(f\"Task '{deleted_task['title']}' deleted.\")\n",
        "    else:\n",
        "        print(\"Invalid task number.\")\n",
        "\n",
        "def main():\n",
        "    while True:\n",
        "        show_menu()\n",
        "        choice = input(\"Choose an option (1-6): \")\n",
        "\n",
        "        if choice == '1':\n",
        "            view_tasks()\n",
        "        elif choice == '2':\n",
        "            add_task()\n",
        "        elif choice == '3':\n",
        "            mark_complete()\n",
        "        elif choice == '4':\n",
        "            edit_task()\n",
        "        elif choice == '5':\n",
        "            delete_task()\n",
        "        elif choice == '6':\n",
        "            print(\"Goodbye!\")\n",
        "            break\n",
        "        else:\n",
        "            print(\"Invalid choice. Please try again.\")\n",
        "\n",
        "if __name__ == \"__main__\":\n",
        "    main()\n"
      ]
    }
  ],
  "metadata": {
    "colab": {
      "provenance": [],
      "toc_visible": true
    },
    "kernelspec": {
      "display_name": "Python 3",
      "name": "python3"
    },
    "language_info": {
      "name": "python"
    }
  },
  "nbformat": 4,
  "nbformat_minor": 0
}