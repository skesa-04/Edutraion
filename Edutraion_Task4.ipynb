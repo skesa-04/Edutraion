{
  "nbformat": 4,
  "nbformat_minor": 0,
  "metadata": {
    "colab": {
      "provenance": []
    },
    "kernelspec": {
      "name": "python3",
      "display_name": "Python 3"
    },
    "language_info": {
      "name": "python"
    }
  },
  "cells": [
    {
      "cell_type": "code",
      "execution_count": null,
      "metadata": {
        "id": "nBvyp0WP2mdR"
      },
      "outputs": [],
      "source": [
        "#Rock,Paper,Scissors\n",
        "import random\n",
        "\n",
        "print(\" Let's play Rock, Paper, Scissors!\")\n",
        "\n",
        "# Score counters\n",
        "user_score = 0\n",
        "computer_score = 0\n",
        "\n",
        "choices = [\"rock\", \"paper\", \"scissors\"]\n",
        "\n",
        "while True:\n",
        "    print(\"\\nPlease choose:\")\n",
        "    print(\"1. Rock\")\n",
        "    print(\"2. Paper\")\n",
        "    print(\"3. Scissors\")\n",
        "\n",
        "    user_input = input(\"Enter your choice: \").lower()\n",
        "\n",
        "    if user_input not in choices:\n",
        "        print(\"Invalid choice! Please try again.\")\n",
        "        continue\n",
        "\n",
        "    # Computer makes a choice\n",
        "    computer_choice = random.choice(choices)\n",
        "\n",
        "    print(f\"\\nYou chose: {user_input}\")\n",
        "    print(f\"Computer chose: {computer_choice}\")\n",
        "\n",
        "    # Determine winner\n",
        "    if user_input == computer_choice:\n",
        "        print(\"It's a tie!\")\n",
        "    elif (\n",
        "        (user_input == \"rock\" and computer_choice == \"scissors\") or\n",
        "        (user_input == \"scissors\" and computer_choice == \"paper\") or\n",
        "        (user_input == \"paper\" and computer_choice == \"rock\")\n",
        "    ):\n",
        "        print(\"Congrats, You win this round!\")\n",
        "        user_score += 1\n",
        "    else:\n",
        "        print(\"Computer wins this round, Better luck next time\")\n",
        "        computer_score += 1\n",
        "\n",
        "    print(f\"Score -> You: {user_score}\")\n",
        "    print(f\"Score -> Computer: {computer_score}\")\n",
        "\n",
        "    # Play again?\n",
        "    play_again = input(\"\\nDo you want to play again? (yes/no): \").lower()\n",
        "    if play_again != \"yes\":\n",
        "        print(\"\\nThanks for playing!\")\n",
        "        break\n"
      ]
    }
  ]
}