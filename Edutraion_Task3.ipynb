{
  "nbformat": 4,
  "nbformat_minor": 0,
  "metadata": {
    "colab": {
      "provenance": []
    },
    "kernelspec": {
      "name": "python3",
      "display_name": "Python 3"
    },
    "language_info": {
      "name": "python"
    }
  },
  "cells": [
    {
      "cell_type": "code",
      "execution_count": null,
      "metadata": {
        "id": "tVwLR-Cd1fQ8"
      },
      "outputs": [],
      "source": [
        "#Password Generator\n",
        "import random\n",
        "import string\n",
        "\n",
        "print(\"Password Generator!\")\n",
        "\n",
        "length = int(input(\"Enter the desired password length: \"))\n",
        "\n",
        "print(\"Choose your password complexity:\")\n",
        "print(\"1. Letters only\")\n",
        "print(\"2. Digits only\")\n",
        "print(\"3. Symbols only\")\n",
        "print(\"4. Letters and digits\")\n",
        "print(\"5. Letters and symbols\")\n",
        "print(\"6. digits and symbols\")\n",
        "print(\"7. Letters, digits, and symbols\")\n",
        "\n",
        "choice = input(\"Enter a number of your choosing from the above options: \")\n",
        "\n",
        "if choice == '1':\n",
        "    characters = string.ascii_letters\n",
        "elif choice == '2':\n",
        "    characters = string.digits\n",
        "elif choice == '3':\n",
        "    characters = string.punctuation\n",
        "elif choice == '4':\n",
        "    characters = string.ascii_letters + string.digits\n",
        "elif choice == '5':\n",
        "    characters = string.ascii_letters + string.punctuation\n",
        "elif choice == '6':\n",
        "    characters = string.digits + string.punctuation\n",
        "elif choice == '7':\n",
        "    characters = string.ascii_letters + string.digits + string.punctuation\n",
        "else:\n",
        "    print(\"Invalid choice. Defaulting to letters, digits, and symbols.\")\n",
        "    characters = string.ascii_letters + string.digits + string.punctuation\n",
        "\n",
        "password = \"\".join(random.choice(characters) for _ in range(length))\n",
        "\n",
        "print(\"Your generated password is:\", password)\n"
      ]
    }
  ]
}