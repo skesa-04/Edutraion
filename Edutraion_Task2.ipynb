{
  "nbformat": 4,
  "nbformat_minor": 0,
  "metadata": {
    "colab": {
      "provenance": []
    },
    "kernelspec": {
      "name": "python3",
      "display_name": "Python 3"
    },
    "language_info": {
      "name": "python"
    }
  },
  "cells": [
    {
      "cell_type": "code",
      "execution_count": null,
      "metadata": {
        "id": "aGBHke0k0SH8"
      },
      "outputs": [],
      "source": [
        "print(\"Simple Calculator!\")\n",
        "\n",
        "# Get user input\n",
        "num1 = float(input(\"Enter the first number: \"))\n",
        "num2 = float(input(\"Enter the second number: \"))\n",
        "\n",
        "print(\"\\nChoose an operation:\")\n",
        "print(\"1. Addition (+)\")\n",
        "print(\"2. Subtraction (-)\")\n",
        "print(\"3. Multiplication (*)\")\n",
        "print(\"4. Division (/)\")\n",
        "print(\"5. Modulation (%)\")\n",
        "\n",
        "choice = input(\"Enter your choice from the above options: \")\n",
        "\n",
        "if choice == '1':\n",
        "    result = num1 + num2\n",
        "    operation = \"+\"\n",
        "elif choice == '2':\n",
        "    result = num1 - num2\n",
        "    operation = \"-\"\n",
        "elif choice == '3':\n",
        "    result = num1 * num2\n",
        "    operation = \"*\"\n",
        "elif choice == '4':\n",
        "    result = num1 / num2\n",
        "    operation = \"/\"\n",
        "elif choice == '5':\n",
        "    result = num1 % num2\n",
        "    operation = \"%\"\n",
        "else:\n",
        "    print(\"Invalid choice.\")\n",
        "    result = None\n",
        "\n",
        "# Display the result\n",
        "if result is not None:\n",
        "    print(f\"\\nResult: {num1} {operation} {num2} = {result}\")\n"
      ]
    }
  ]
}